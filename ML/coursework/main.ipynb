{
 "cells": [
  {
   "cell_type": "code",
   "execution_count": 23,
   "outputs": [
    {
     "ename": "ModuleNotFoundError",
     "evalue": "No module named 'tensorflow'",
     "output_type": "error",
     "traceback": [
      "\u001B[1;31m---------------------------------------------------------------------------\u001B[0m",
      "\u001B[1;31mModuleNotFoundError\u001B[0m                       Traceback (most recent call last)",
      "\u001B[1;32m~\\AppData\\Local\\Temp\\ipykernel_11228\\955821273.py\u001B[0m in \u001B[0;36m<module>\u001B[1;34m\u001B[0m\n\u001B[0;32m      8\u001B[0m \u001B[1;32mfrom\u001B[0m \u001B[0msklearn\u001B[0m \u001B[1;32mimport\u001B[0m \u001B[0mpreprocessing\u001B[0m\u001B[1;33m\u001B[0m\u001B[1;33m\u001B[0m\u001B[0m\n\u001B[0;32m      9\u001B[0m \u001B[1;32mfrom\u001B[0m \u001B[0msklearn\u001B[0m\u001B[1;33m.\u001B[0m\u001B[0mpreprocessing\u001B[0m \u001B[1;32mimport\u001B[0m \u001B[0mStandardScaler\u001B[0m\u001B[1;33m\u001B[0m\u001B[1;33m\u001B[0m\u001B[0m\n\u001B[1;32m---> 10\u001B[1;33m \u001B[1;32mfrom\u001B[0m \u001B[0mkeras\u001B[0m \u001B[1;32mimport\u001B[0m \u001B[0mmodels\u001B[0m\u001B[1;33m\u001B[0m\u001B[1;33m\u001B[0m\u001B[0m\n\u001B[0m\u001B[0;32m     11\u001B[0m \u001B[1;32mfrom\u001B[0m \u001B[0mkeras\u001B[0m \u001B[1;32mimport\u001B[0m \u001B[0mlayers\u001B[0m\u001B[1;33m\u001B[0m\u001B[1;33m\u001B[0m\u001B[0m\n",
      "\u001B[1;32mc:\\users\\nikka\\appdata\\local\\programs\\python\\python37-32\\lib\\site-packages\\keras\\__init__.py\u001B[0m in \u001B[0;36m<module>\u001B[1;34m\u001B[0m\n\u001B[0;32m     19\u001B[0m \"\"\"\n\u001B[0;32m     20\u001B[0m \u001B[1;31m# pylint: disable=unused-import\u001B[0m\u001B[1;33m\u001B[0m\u001B[1;33m\u001B[0m\u001B[1;33m\u001B[0m\u001B[0m\n\u001B[1;32m---> 21\u001B[1;33m \u001B[1;32mfrom\u001B[0m \u001B[0mtensorflow\u001B[0m\u001B[1;33m.\u001B[0m\u001B[0mpython\u001B[0m \u001B[1;32mimport\u001B[0m \u001B[0mtf2\u001B[0m\u001B[1;33m\u001B[0m\u001B[1;33m\u001B[0m\u001B[0m\n\u001B[0m\u001B[0;32m     22\u001B[0m \u001B[1;32mfrom\u001B[0m \u001B[0mkeras\u001B[0m \u001B[1;32mimport\u001B[0m \u001B[0mdistribute\u001B[0m\u001B[1;33m\u001B[0m\u001B[1;33m\u001B[0m\u001B[0m\n\u001B[0;32m     23\u001B[0m \u001B[1;33m\u001B[0m\u001B[0m\n",
      "\u001B[1;31mModuleNotFoundError\u001B[0m: No module named 'tensorflow'"
     ]
    }
   ],
   "source": [
    "import matplotlib.pyplot as plt\n",
    "import numpy as np\n",
    "from matplotlib import cm\n",
    "import librosa\n",
    "import csv\n",
    "import os\n",
    "import pandas as pd\n",
    "from sklearn import preprocessing\n",
    "from sklearn.preprocessing import StandardScaler\n",
    "from keras import models\n",
    "from keras import layers"
   ],
   "metadata": {
    "collapsed": false,
    "pycharm": {
     "name": "#%%\n"
    }
   }
  },
  {
   "cell_type": "code",
   "execution_count": 24,
   "outputs": [],
   "source": [
    "#Данный параметр определяет, будем ли мы создавать CSV файл в информацией об параметрах записи\n",
    "CSV_FILE_OPTION = True"
   ],
   "metadata": {
    "collapsed": false,
    "pycharm": {
     "name": "#%%\n"
    }
   }
  },
  {
   "cell_type": "code",
   "execution_count": 4,
   "outputs": [],
   "source": [
    "TRAIN_CSV = \"train.csv\"\n",
    "TEST_CSV = \"test.csv\""
   ],
   "metadata": {
    "collapsed": false,
    "pycharm": {
     "name": "#%%\n"
    }
   }
  },
  {
   "cell_type": "code",
   "execution_count": 5,
   "outputs": [
    {
     "name": "stdout",
     "output_type": "stream",
     "text": [
      "Данные файлов из data/recordings/train будут сохранены как train.csv\n",
      "Header: ['filename', 'chroma_stft', 'rmse', 'spectrat_centroid', 'spectral_bandwith', 'rolloff', 'zero_crossing_rate', 'mfcc1', 'mfcc2', 'mfcc3', 'mfcc4', 'mfcc5', 'mfcc6', 'mfcc7', 'mfcc8', 'mfcc9', 'mfcc10', 'mfcc11', 'mfcc12', 'mfcc13', 'mfcc14', 'mfcc15', 'mfcc16', 'mfcc17', 'mfcc18', 'mfcc19', 'mfcc20', 'label']\n",
      "Конец экспортировки файлов\n",
      "Данные файлов из data/recordings/test будут сохранены как test.csv\n",
      "Header: ['filename', 'chroma_stft', 'rmse', 'spectrat_centroid', 'spectral_bandwith', 'rolloff', 'zero_crossing_rate', 'mfcc1', 'mfcc2', 'mfcc3', 'mfcc4', 'mfcc5', 'mfcc6', 'mfcc7', 'mfcc8', 'mfcc9', 'mfcc10', 'mfcc11', 'mfcc12', 'mfcc13', 'mfcc14', 'mfcc15', 'mfcc16', 'mfcc17', 'mfcc18', 'mfcc19', 'mfcc20', 'label']\n",
      "Конец экспортировки файлов\n"
     ]
    }
   ],
   "source": [
    "def extract_wav(data_folder, file_name):\n",
    "    print(f\"Данные файлов из {data_folder} будут сохранены как {file_name}\")\n",
    "    header = \"filename chroma_stft rmse spectrat_centroid spectral_bandwith rolloff zero_crossing_rate\"\n",
    "    for i in range(1, 21):\n",
    "        header += f' mfcc{i}'\n",
    "    header += ' label'\n",
    "    header = header.split()\n",
    "    print(f'Header: {header}')\n",
    "    file = open(file_name, 'w', newline='')\n",
    "    writer = csv.writer(file)\n",
    "    writer.writerow(header)\n",
    "    genres = '1 2 3 4 5 6 7 8 9 0'.split()\n",
    "    for filename in os.listdir(data_folder):\n",
    "        number = f'{data_folder}/{filename}'\n",
    "        y, sr = librosa.load(number, mono=True, duration=30)\n",
    "        y, index = librosa.effects.trim(y)\n",
    "        chroma_stft = librosa.feature.chroma_stft(y=y, sr=sr)\n",
    "        rmse = librosa.feature.rms(y=y)\n",
    "        spec_cent = librosa.feature.spectral_centroid(y=y, sr=sr)\n",
    "        spec_bw = librosa.feature.spectral_bandwidth(y=y, sr=sr)\n",
    "        rolloff = librosa.feature.spectral_rolloff(y=y, sr=sr)\n",
    "        zcr = librosa.feature.zero_crossing_rate(y)\n",
    "        mfcc = librosa.feature.mfcc(y=y, sr=sr)\n",
    "        to_append = f'{filename} {np.mean(chroma_stft)} {np.mean(rmse)} {np.mean(spec_cent)} {np.mean(spec_bw)} {np.mean(rolloff)} {np.mean(zcr)}'\n",
    "        for i in mfcc:\n",
    "            to_append += f' {np.mean(i)}'\n",
    "        writer.writerow(to_append.split())\n",
    "    file.close()\n",
    "    print(\"Конец экспортировки файлов\")\n",
    "\n",
    "if CSV_FILE_OPTION:\n",
    "    extract_wav(\"data/recordings/train\", TRAIN_CSV)\n",
    "    extract_wav(\"data/recordings/test\", TEST_CSV)\n",
    "else:\n",
    "    print('Генерация CSV файлов пропущена')\n",
    "\n"
   ],
   "metadata": {
    "collapsed": false,
    "pycharm": {
     "name": "#%%\n"
    }
   }
  },
  {
   "cell_type": "code",
   "execution_count": 6,
   "outputs": [
    {
     "data": {
      "text/plain": "             filename  chroma_stft      rmse  spectrat_centroid  \\\n0      7_george_0.wav     0.263753  0.054369        1429.015758   \n1      7_george_1.wav     0.259044  0.051672        1348.648748   \n2     7_george_10.wav     0.271916  0.051779        1505.341112   \n3     7_george_11.wav     0.292725  0.049340        1361.981731   \n4     7_george_12.wav     0.238289  0.050798        1145.041708   \n..                ...          ...       ...                ...   \n895  9_yweweler_5.wav     0.374018  0.008558         985.559078   \n896  9_yweweler_6.wav     0.408219  0.011599        1204.300650   \n897  9_yweweler_7.wav     0.376584  0.008699        1070.728559   \n898  9_yweweler_8.wav     0.352586  0.005564        1031.310462   \n899  9_yweweler_9.wav     0.385950  0.006071         950.702118   \n\n     spectral_bandwith      rolloff  zero_crossing_rate       mfcc1  \\\n0          1011.754554  2582.061768            0.095285 -359.388977   \n1          1014.415626  2541.746169            0.080604 -368.610382   \n2          1034.641958  2639.163208            0.104431 -355.961792   \n3           999.685671  2379.887058            0.080715 -358.381927   \n4           980.499847  2273.710494            0.056641 -366.372131   \n..                 ...          ...                 ...         ...   \n895         884.080353  1823.593140            0.058289 -539.953735   \n896         911.623800  2174.853516            0.071094 -491.344299   \n897         908.047852  1971.633911            0.052460 -511.855164   \n898         940.535710  1887.145996            0.056478 -559.762512   \n899         836.553770  1715.856291            0.052914 -553.986816   \n\n          mfcc2      mfcc3  ...     mfcc12    mfcc13    mfcc14     mfcc15  \\\n0    133.674042 -76.468208  ... -41.575848  1.992937 -2.124179 -20.958620   \n1    149.898453 -76.142838  ... -43.693050  2.464032 -0.810746 -21.208622   \n2    141.140396 -83.008217  ... -38.872837  0.835708 -2.615908 -21.555521   \n3    152.795837 -85.602638  ... -38.723225  0.593238 -5.859456 -23.681301   \n4    155.434586 -75.170731  ... -38.412624 -2.687708 -7.999028 -25.117851   \n..          ...        ...  ...        ...       ...       ...        ...   \n895  227.801041 -66.478615  ... -23.454927  2.178335  0.333494 -16.196772   \n896  227.619583 -87.590607  ... -14.578754  5.613831  0.955333 -12.609158   \n897  214.749985 -75.395142  ... -17.942572  2.736620 -5.966835 -16.471325   \n898  231.914139 -70.128494  ... -17.065544  7.002769 -3.895182 -14.850401   \n899  235.320465 -67.915489  ... -18.515539  4.906856 -5.223548 -13.368549   \n\n       mfcc16     mfcc17     mfcc18    mfcc19     mfcc20  label  \n0   -3.571909 -10.504210 -13.307717 -2.653119 -17.421576    NaN  \n1   -5.371576 -14.982929 -17.185871 -3.406756 -16.983768    NaN  \n2   -3.536598 -11.066772 -15.666824 -3.464526 -16.807863    NaN  \n3   -4.356111 -13.322693 -19.423634 -5.658212 -16.446606    NaN  \n4   -4.258515 -11.710950 -21.273701 -8.058896 -15.828046    NaN  \n..        ...        ...        ...       ...        ...    ...  \n895 -3.123700  -9.697893 -11.340940  1.610538  -8.898898    NaN  \n896 -2.106348 -12.828856 -10.495635  5.215742  -9.894784    NaN  \n897 -2.094695 -15.326061 -16.683111 -1.763445 -13.693180    NaN  \n898  1.386613 -11.851810 -10.300099  6.005344  -9.889004    NaN  \n899  1.882477 -13.833864  -9.865933  7.134008 -10.600046    NaN  \n\n[900 rows x 28 columns]",
      "text/html": "<div>\n<style scoped>\n    .dataframe tbody tr th:only-of-type {\n        vertical-align: middle;\n    }\n\n    .dataframe tbody tr th {\n        vertical-align: top;\n    }\n\n    .dataframe thead th {\n        text-align: right;\n    }\n</style>\n<table border=\"1\" class=\"dataframe\">\n  <thead>\n    <tr style=\"text-align: right;\">\n      <th></th>\n      <th>filename</th>\n      <th>chroma_stft</th>\n      <th>rmse</th>\n      <th>spectrat_centroid</th>\n      <th>spectral_bandwith</th>\n      <th>rolloff</th>\n      <th>zero_crossing_rate</th>\n      <th>mfcc1</th>\n      <th>mfcc2</th>\n      <th>mfcc3</th>\n      <th>...</th>\n      <th>mfcc12</th>\n      <th>mfcc13</th>\n      <th>mfcc14</th>\n      <th>mfcc15</th>\n      <th>mfcc16</th>\n      <th>mfcc17</th>\n      <th>mfcc18</th>\n      <th>mfcc19</th>\n      <th>mfcc20</th>\n      <th>label</th>\n    </tr>\n  </thead>\n  <tbody>\n    <tr>\n      <th>0</th>\n      <td>7_george_0.wav</td>\n      <td>0.263753</td>\n      <td>0.054369</td>\n      <td>1429.015758</td>\n      <td>1011.754554</td>\n      <td>2582.061768</td>\n      <td>0.095285</td>\n      <td>-359.388977</td>\n      <td>133.674042</td>\n      <td>-76.468208</td>\n      <td>...</td>\n      <td>-41.575848</td>\n      <td>1.992937</td>\n      <td>-2.124179</td>\n      <td>-20.958620</td>\n      <td>-3.571909</td>\n      <td>-10.504210</td>\n      <td>-13.307717</td>\n      <td>-2.653119</td>\n      <td>-17.421576</td>\n      <td>NaN</td>\n    </tr>\n    <tr>\n      <th>1</th>\n      <td>7_george_1.wav</td>\n      <td>0.259044</td>\n      <td>0.051672</td>\n      <td>1348.648748</td>\n      <td>1014.415626</td>\n      <td>2541.746169</td>\n      <td>0.080604</td>\n      <td>-368.610382</td>\n      <td>149.898453</td>\n      <td>-76.142838</td>\n      <td>...</td>\n      <td>-43.693050</td>\n      <td>2.464032</td>\n      <td>-0.810746</td>\n      <td>-21.208622</td>\n      <td>-5.371576</td>\n      <td>-14.982929</td>\n      <td>-17.185871</td>\n      <td>-3.406756</td>\n      <td>-16.983768</td>\n      <td>NaN</td>\n    </tr>\n    <tr>\n      <th>2</th>\n      <td>7_george_10.wav</td>\n      <td>0.271916</td>\n      <td>0.051779</td>\n      <td>1505.341112</td>\n      <td>1034.641958</td>\n      <td>2639.163208</td>\n      <td>0.104431</td>\n      <td>-355.961792</td>\n      <td>141.140396</td>\n      <td>-83.008217</td>\n      <td>...</td>\n      <td>-38.872837</td>\n      <td>0.835708</td>\n      <td>-2.615908</td>\n      <td>-21.555521</td>\n      <td>-3.536598</td>\n      <td>-11.066772</td>\n      <td>-15.666824</td>\n      <td>-3.464526</td>\n      <td>-16.807863</td>\n      <td>NaN</td>\n    </tr>\n    <tr>\n      <th>3</th>\n      <td>7_george_11.wav</td>\n      <td>0.292725</td>\n      <td>0.049340</td>\n      <td>1361.981731</td>\n      <td>999.685671</td>\n      <td>2379.887058</td>\n      <td>0.080715</td>\n      <td>-358.381927</td>\n      <td>152.795837</td>\n      <td>-85.602638</td>\n      <td>...</td>\n      <td>-38.723225</td>\n      <td>0.593238</td>\n      <td>-5.859456</td>\n      <td>-23.681301</td>\n      <td>-4.356111</td>\n      <td>-13.322693</td>\n      <td>-19.423634</td>\n      <td>-5.658212</td>\n      <td>-16.446606</td>\n      <td>NaN</td>\n    </tr>\n    <tr>\n      <th>4</th>\n      <td>7_george_12.wav</td>\n      <td>0.238289</td>\n      <td>0.050798</td>\n      <td>1145.041708</td>\n      <td>980.499847</td>\n      <td>2273.710494</td>\n      <td>0.056641</td>\n      <td>-366.372131</td>\n      <td>155.434586</td>\n      <td>-75.170731</td>\n      <td>...</td>\n      <td>-38.412624</td>\n      <td>-2.687708</td>\n      <td>-7.999028</td>\n      <td>-25.117851</td>\n      <td>-4.258515</td>\n      <td>-11.710950</td>\n      <td>-21.273701</td>\n      <td>-8.058896</td>\n      <td>-15.828046</td>\n      <td>NaN</td>\n    </tr>\n    <tr>\n      <th>...</th>\n      <td>...</td>\n      <td>...</td>\n      <td>...</td>\n      <td>...</td>\n      <td>...</td>\n      <td>...</td>\n      <td>...</td>\n      <td>...</td>\n      <td>...</td>\n      <td>...</td>\n      <td>...</td>\n      <td>...</td>\n      <td>...</td>\n      <td>...</td>\n      <td>...</td>\n      <td>...</td>\n      <td>...</td>\n      <td>...</td>\n      <td>...</td>\n      <td>...</td>\n      <td>...</td>\n    </tr>\n    <tr>\n      <th>895</th>\n      <td>9_yweweler_5.wav</td>\n      <td>0.374018</td>\n      <td>0.008558</td>\n      <td>985.559078</td>\n      <td>884.080353</td>\n      <td>1823.593140</td>\n      <td>0.058289</td>\n      <td>-539.953735</td>\n      <td>227.801041</td>\n      <td>-66.478615</td>\n      <td>...</td>\n      <td>-23.454927</td>\n      <td>2.178335</td>\n      <td>0.333494</td>\n      <td>-16.196772</td>\n      <td>-3.123700</td>\n      <td>-9.697893</td>\n      <td>-11.340940</td>\n      <td>1.610538</td>\n      <td>-8.898898</td>\n      <td>NaN</td>\n    </tr>\n    <tr>\n      <th>896</th>\n      <td>9_yweweler_6.wav</td>\n      <td>0.408219</td>\n      <td>0.011599</td>\n      <td>1204.300650</td>\n      <td>911.623800</td>\n      <td>2174.853516</td>\n      <td>0.071094</td>\n      <td>-491.344299</td>\n      <td>227.619583</td>\n      <td>-87.590607</td>\n      <td>...</td>\n      <td>-14.578754</td>\n      <td>5.613831</td>\n      <td>0.955333</td>\n      <td>-12.609158</td>\n      <td>-2.106348</td>\n      <td>-12.828856</td>\n      <td>-10.495635</td>\n      <td>5.215742</td>\n      <td>-9.894784</td>\n      <td>NaN</td>\n    </tr>\n    <tr>\n      <th>897</th>\n      <td>9_yweweler_7.wav</td>\n      <td>0.376584</td>\n      <td>0.008699</td>\n      <td>1070.728559</td>\n      <td>908.047852</td>\n      <td>1971.633911</td>\n      <td>0.052460</td>\n      <td>-511.855164</td>\n      <td>214.749985</td>\n      <td>-75.395142</td>\n      <td>...</td>\n      <td>-17.942572</td>\n      <td>2.736620</td>\n      <td>-5.966835</td>\n      <td>-16.471325</td>\n      <td>-2.094695</td>\n      <td>-15.326061</td>\n      <td>-16.683111</td>\n      <td>-1.763445</td>\n      <td>-13.693180</td>\n      <td>NaN</td>\n    </tr>\n    <tr>\n      <th>898</th>\n      <td>9_yweweler_8.wav</td>\n      <td>0.352586</td>\n      <td>0.005564</td>\n      <td>1031.310462</td>\n      <td>940.535710</td>\n      <td>1887.145996</td>\n      <td>0.056478</td>\n      <td>-559.762512</td>\n      <td>231.914139</td>\n      <td>-70.128494</td>\n      <td>...</td>\n      <td>-17.065544</td>\n      <td>7.002769</td>\n      <td>-3.895182</td>\n      <td>-14.850401</td>\n      <td>1.386613</td>\n      <td>-11.851810</td>\n      <td>-10.300099</td>\n      <td>6.005344</td>\n      <td>-9.889004</td>\n      <td>NaN</td>\n    </tr>\n    <tr>\n      <th>899</th>\n      <td>9_yweweler_9.wav</td>\n      <td>0.385950</td>\n      <td>0.006071</td>\n      <td>950.702118</td>\n      <td>836.553770</td>\n      <td>1715.856291</td>\n      <td>0.052914</td>\n      <td>-553.986816</td>\n      <td>235.320465</td>\n      <td>-67.915489</td>\n      <td>...</td>\n      <td>-18.515539</td>\n      <td>4.906856</td>\n      <td>-5.223548</td>\n      <td>-13.368549</td>\n      <td>1.882477</td>\n      <td>-13.833864</td>\n      <td>-9.865933</td>\n      <td>7.134008</td>\n      <td>-10.600046</td>\n      <td>NaN</td>\n    </tr>\n  </tbody>\n</table>\n<p>900 rows × 28 columns</p>\n</div>"
     },
     "execution_count": 6,
     "metadata": {},
     "output_type": "execute_result"
    }
   ],
   "source": [
    "data_test = pd.read_csv('test.csv', sep=',')\n",
    "data_test"
   ],
   "metadata": {
    "collapsed": false,
    "pycharm": {
     "name": "#%%\n"
    }
   }
  },
  {
   "cell_type": "code",
   "execution_count": 7,
   "outputs": [
    {
     "data": {
      "text/plain": "              filename  chroma_stft      rmse  spectrat_centroid  \\\n0       0_george_0.wav     0.198667  0.083719        1389.432001   \n1       0_george_1.wav     0.273889  0.042972        1034.395917   \n2      0_george_10.wav     0.342532  0.032147        1269.075083   \n3      0_george_11.wav     0.255208  0.041286        1218.094283   \n4      0_george_12.wav     0.222804  0.041336        1146.683549   \n...                ...          ...       ...                ...   \n2095  6_yweweler_5.wav     0.446829  0.010023        1279.035949   \n2096  6_yweweler_6.wav     0.349034  0.008984        1361.016887   \n2097  6_yweweler_7.wav     0.391824  0.009840        1264.264588   \n2098  6_yweweler_8.wav     0.428572  0.017723        1556.202017   \n2099  6_yweweler_9.wav     0.411180  0.007920        1724.917866   \n\n      spectral_bandwith      rolloff  zero_crossing_rate       mfcc1  \\\n0           1122.693199  2620.425180            0.060171 -312.483826   \n1            974.723142  2113.980807            0.046744 -379.066345   \n2           1003.382474  2388.227983            0.076956 -424.772461   \n3           1049.359689  2413.872070            0.062061 -389.584808   \n4            994.639615  2244.836426            0.061479 -389.274689   \n...                 ...          ...                 ...         ...   \n2095        1103.787370  2647.605202            0.069380 -510.476746   \n2096        1103.588867  2704.211426            0.082235 -507.568237   \n2097        1140.380567  2680.883789            0.061646 -525.325623   \n2098        1125.385014  2803.457407            0.082444 -464.850555   \n2099        1119.666646  2935.693359            0.127848 -538.622986   \n\n           mfcc2      mfcc3  ...     mfcc12     mfcc13     mfcc14     mfcc15  \\\n0     157.413849 -83.389442  ... -43.016983   2.110411  -6.013774 -28.540850   \n1     165.666901 -57.867474  ... -40.412582  -2.325322  -6.705203 -25.866652   \n2     127.852097 -53.795578  ... -34.547405  -1.589133 -11.633971 -23.948620   \n3     166.073517 -79.408005  ... -41.559254  -0.668475 -12.243627 -26.992029   \n4     169.632339 -77.210121  ... -41.768703  -1.458748 -10.668156 -28.250914   \n...          ...        ...  ...        ...        ...        ...        ...   \n2095  187.052338 -65.453217  ... -22.069153   6.544076  -6.732862  -9.785005   \n2096  189.247238 -70.409309  ... -26.738008  11.454770  -4.096629  -9.448665   \n2097  171.141586 -52.598236  ... -19.067482   6.169343  -5.581761  -8.203163   \n2098  168.779602 -83.380943  ... -29.184578   4.685061  -2.531713 -15.393044   \n2099  154.209381 -78.856964  ... -21.930685  11.341022   1.198806 -10.743808   \n\n         mfcc16     mfcc17     mfcc18     mfcc19     mfcc20  label  \n0     -3.117069  -5.603108 -13.659478  -2.320225 -12.169437    NaN  \n1     -7.142957 -10.470287 -16.260075  -5.955035 -14.368776    NaN  \n2     -0.723396  -4.458994 -10.715401  -1.525208 -11.829736    NaN  \n3      1.255177  -5.872052 -13.653752  -2.406699 -15.252202    NaN  \n4     -1.996622  -7.960970 -16.239616  -3.517599 -17.073278    NaN  \n...         ...        ...        ...        ...        ...    ...  \n2095   8.602619  -6.234537  -1.425319   9.043639 -10.710855    NaN  \n2096  11.811175  -7.345267  -0.686778  16.271574 -10.519032    NaN  \n2097   8.463043  -4.057237   1.289013  11.204910  -8.808956    NaN  \n2098   2.941924  -3.998078  -4.358109   4.382173 -10.873220    NaN  \n2099   7.046232  -1.165114  -0.266177   7.784483  -9.114990    NaN  \n\n[2100 rows x 28 columns]",
      "text/html": "<div>\n<style scoped>\n    .dataframe tbody tr th:only-of-type {\n        vertical-align: middle;\n    }\n\n    .dataframe tbody tr th {\n        vertical-align: top;\n    }\n\n    .dataframe thead th {\n        text-align: right;\n    }\n</style>\n<table border=\"1\" class=\"dataframe\">\n  <thead>\n    <tr style=\"text-align: right;\">\n      <th></th>\n      <th>filename</th>\n      <th>chroma_stft</th>\n      <th>rmse</th>\n      <th>spectrat_centroid</th>\n      <th>spectral_bandwith</th>\n      <th>rolloff</th>\n      <th>zero_crossing_rate</th>\n      <th>mfcc1</th>\n      <th>mfcc2</th>\n      <th>mfcc3</th>\n      <th>...</th>\n      <th>mfcc12</th>\n      <th>mfcc13</th>\n      <th>mfcc14</th>\n      <th>mfcc15</th>\n      <th>mfcc16</th>\n      <th>mfcc17</th>\n      <th>mfcc18</th>\n      <th>mfcc19</th>\n      <th>mfcc20</th>\n      <th>label</th>\n    </tr>\n  </thead>\n  <tbody>\n    <tr>\n      <th>0</th>\n      <td>0_george_0.wav</td>\n      <td>0.198667</td>\n      <td>0.083719</td>\n      <td>1389.432001</td>\n      <td>1122.693199</td>\n      <td>2620.425180</td>\n      <td>0.060171</td>\n      <td>-312.483826</td>\n      <td>157.413849</td>\n      <td>-83.389442</td>\n      <td>...</td>\n      <td>-43.016983</td>\n      <td>2.110411</td>\n      <td>-6.013774</td>\n      <td>-28.540850</td>\n      <td>-3.117069</td>\n      <td>-5.603108</td>\n      <td>-13.659478</td>\n      <td>-2.320225</td>\n      <td>-12.169437</td>\n      <td>NaN</td>\n    </tr>\n    <tr>\n      <th>1</th>\n      <td>0_george_1.wav</td>\n      <td>0.273889</td>\n      <td>0.042972</td>\n      <td>1034.395917</td>\n      <td>974.723142</td>\n      <td>2113.980807</td>\n      <td>0.046744</td>\n      <td>-379.066345</td>\n      <td>165.666901</td>\n      <td>-57.867474</td>\n      <td>...</td>\n      <td>-40.412582</td>\n      <td>-2.325322</td>\n      <td>-6.705203</td>\n      <td>-25.866652</td>\n      <td>-7.142957</td>\n      <td>-10.470287</td>\n      <td>-16.260075</td>\n      <td>-5.955035</td>\n      <td>-14.368776</td>\n      <td>NaN</td>\n    </tr>\n    <tr>\n      <th>2</th>\n      <td>0_george_10.wav</td>\n      <td>0.342532</td>\n      <td>0.032147</td>\n      <td>1269.075083</td>\n      <td>1003.382474</td>\n      <td>2388.227983</td>\n      <td>0.076956</td>\n      <td>-424.772461</td>\n      <td>127.852097</td>\n      <td>-53.795578</td>\n      <td>...</td>\n      <td>-34.547405</td>\n      <td>-1.589133</td>\n      <td>-11.633971</td>\n      <td>-23.948620</td>\n      <td>-0.723396</td>\n      <td>-4.458994</td>\n      <td>-10.715401</td>\n      <td>-1.525208</td>\n      <td>-11.829736</td>\n      <td>NaN</td>\n    </tr>\n    <tr>\n      <th>3</th>\n      <td>0_george_11.wav</td>\n      <td>0.255208</td>\n      <td>0.041286</td>\n      <td>1218.094283</td>\n      <td>1049.359689</td>\n      <td>2413.872070</td>\n      <td>0.062061</td>\n      <td>-389.584808</td>\n      <td>166.073517</td>\n      <td>-79.408005</td>\n      <td>...</td>\n      <td>-41.559254</td>\n      <td>-0.668475</td>\n      <td>-12.243627</td>\n      <td>-26.992029</td>\n      <td>1.255177</td>\n      <td>-5.872052</td>\n      <td>-13.653752</td>\n      <td>-2.406699</td>\n      <td>-15.252202</td>\n      <td>NaN</td>\n    </tr>\n    <tr>\n      <th>4</th>\n      <td>0_george_12.wav</td>\n      <td>0.222804</td>\n      <td>0.041336</td>\n      <td>1146.683549</td>\n      <td>994.639615</td>\n      <td>2244.836426</td>\n      <td>0.061479</td>\n      <td>-389.274689</td>\n      <td>169.632339</td>\n      <td>-77.210121</td>\n      <td>...</td>\n      <td>-41.768703</td>\n      <td>-1.458748</td>\n      <td>-10.668156</td>\n      <td>-28.250914</td>\n      <td>-1.996622</td>\n      <td>-7.960970</td>\n      <td>-16.239616</td>\n      <td>-3.517599</td>\n      <td>-17.073278</td>\n      <td>NaN</td>\n    </tr>\n    <tr>\n      <th>...</th>\n      <td>...</td>\n      <td>...</td>\n      <td>...</td>\n      <td>...</td>\n      <td>...</td>\n      <td>...</td>\n      <td>...</td>\n      <td>...</td>\n      <td>...</td>\n      <td>...</td>\n      <td>...</td>\n      <td>...</td>\n      <td>...</td>\n      <td>...</td>\n      <td>...</td>\n      <td>...</td>\n      <td>...</td>\n      <td>...</td>\n      <td>...</td>\n      <td>...</td>\n      <td>...</td>\n    </tr>\n    <tr>\n      <th>2095</th>\n      <td>6_yweweler_5.wav</td>\n      <td>0.446829</td>\n      <td>0.010023</td>\n      <td>1279.035949</td>\n      <td>1103.787370</td>\n      <td>2647.605202</td>\n      <td>0.069380</td>\n      <td>-510.476746</td>\n      <td>187.052338</td>\n      <td>-65.453217</td>\n      <td>...</td>\n      <td>-22.069153</td>\n      <td>6.544076</td>\n      <td>-6.732862</td>\n      <td>-9.785005</td>\n      <td>8.602619</td>\n      <td>-6.234537</td>\n      <td>-1.425319</td>\n      <td>9.043639</td>\n      <td>-10.710855</td>\n      <td>NaN</td>\n    </tr>\n    <tr>\n      <th>2096</th>\n      <td>6_yweweler_6.wav</td>\n      <td>0.349034</td>\n      <td>0.008984</td>\n      <td>1361.016887</td>\n      <td>1103.588867</td>\n      <td>2704.211426</td>\n      <td>0.082235</td>\n      <td>-507.568237</td>\n      <td>189.247238</td>\n      <td>-70.409309</td>\n      <td>...</td>\n      <td>-26.738008</td>\n      <td>11.454770</td>\n      <td>-4.096629</td>\n      <td>-9.448665</td>\n      <td>11.811175</td>\n      <td>-7.345267</td>\n      <td>-0.686778</td>\n      <td>16.271574</td>\n      <td>-10.519032</td>\n      <td>NaN</td>\n    </tr>\n    <tr>\n      <th>2097</th>\n      <td>6_yweweler_7.wav</td>\n      <td>0.391824</td>\n      <td>0.009840</td>\n      <td>1264.264588</td>\n      <td>1140.380567</td>\n      <td>2680.883789</td>\n      <td>0.061646</td>\n      <td>-525.325623</td>\n      <td>171.141586</td>\n      <td>-52.598236</td>\n      <td>...</td>\n      <td>-19.067482</td>\n      <td>6.169343</td>\n      <td>-5.581761</td>\n      <td>-8.203163</td>\n      <td>8.463043</td>\n      <td>-4.057237</td>\n      <td>1.289013</td>\n      <td>11.204910</td>\n      <td>-8.808956</td>\n      <td>NaN</td>\n    </tr>\n    <tr>\n      <th>2098</th>\n      <td>6_yweweler_8.wav</td>\n      <td>0.428572</td>\n      <td>0.017723</td>\n      <td>1556.202017</td>\n      <td>1125.385014</td>\n      <td>2803.457407</td>\n      <td>0.082444</td>\n      <td>-464.850555</td>\n      <td>168.779602</td>\n      <td>-83.380943</td>\n      <td>...</td>\n      <td>-29.184578</td>\n      <td>4.685061</td>\n      <td>-2.531713</td>\n      <td>-15.393044</td>\n      <td>2.941924</td>\n      <td>-3.998078</td>\n      <td>-4.358109</td>\n      <td>4.382173</td>\n      <td>-10.873220</td>\n      <td>NaN</td>\n    </tr>\n    <tr>\n      <th>2099</th>\n      <td>6_yweweler_9.wav</td>\n      <td>0.411180</td>\n      <td>0.007920</td>\n      <td>1724.917866</td>\n      <td>1119.666646</td>\n      <td>2935.693359</td>\n      <td>0.127848</td>\n      <td>-538.622986</td>\n      <td>154.209381</td>\n      <td>-78.856964</td>\n      <td>...</td>\n      <td>-21.930685</td>\n      <td>11.341022</td>\n      <td>1.198806</td>\n      <td>-10.743808</td>\n      <td>7.046232</td>\n      <td>-1.165114</td>\n      <td>-0.266177</td>\n      <td>7.784483</td>\n      <td>-9.114990</td>\n      <td>NaN</td>\n    </tr>\n  </tbody>\n</table>\n<p>2100 rows × 28 columns</p>\n</div>"
     },
     "execution_count": 7,
     "metadata": {},
     "output_type": "execute_result"
    }
   ],
   "source": [
    "data_train = pd.read_csv('train.csv', sep=',')\n",
    "data_train"
   ],
   "metadata": {
    "collapsed": false,
    "pycharm": {
     "name": "#%%\n"
    }
   }
  },
  {
   "cell_type": "code",
   "execution_count": 8,
   "outputs": [
    {
     "name": "stdout",
     "output_type": "stream",
     "text": [
      "train.csv обрабатывается\n",
      "Готово\n",
      "test.csv обрабатывается\n",
      "Готово\n"
     ]
    },
    {
     "data": {
      "text/plain": "          rmse  spectrat_centroid  spectral_bandwith      rolloff  \\\n0     0.083719        1389.432001        1122.693199  2620.425180   \n1     0.042972        1034.395917         974.723142  2113.980807   \n2     0.032147        1269.075083        1003.382474  2388.227983   \n3     0.041286        1218.094283        1049.359689  2413.872070   \n4     0.041336        1146.683549         994.639615  2244.836426   \n...        ...                ...                ...          ...   \n2095  0.010023        1279.035949        1103.787370  2647.605202   \n2096  0.008984        1361.016887        1103.588867  2704.211426   \n2097  0.009840        1264.264588        1140.380567  2680.883789   \n2098  0.017723        1556.202017        1125.385014  2803.457407   \n2099  0.007920        1724.917866        1119.666646  2935.693359   \n\n      zero_crossing_rate       mfcc1       mfcc2      mfcc3      mfcc4  \\\n0               0.060171 -312.483826  157.413849 -83.389442  47.328335   \n1               0.046744 -379.066345  165.666901 -57.867474  22.860203   \n2               0.076956 -424.772461  127.852097 -53.795578  17.831009   \n3               0.062061 -389.584808  166.073517 -79.408005  25.375334   \n4               0.061479 -389.274689  169.632339 -77.210121  22.742558   \n...                  ...         ...         ...        ...        ...   \n2095            0.069380 -510.476746  187.052338 -65.453217  43.655827   \n2096            0.082235 -507.568237  189.247238 -70.409309  36.535740   \n2097            0.061646 -525.325623  171.141586 -52.598236  39.120201   \n2098            0.082444 -464.850555  168.779602 -83.380943  39.441494   \n2099            0.127848 -538.622986  154.209381 -78.856964  39.063801   \n\n          mfcc5  ...     mfcc12     mfcc13     mfcc14     mfcc15     mfcc16  \\\n0     47.099693  ... -43.016983   2.110411  -6.013774 -28.540850  -3.117069   \n1     25.974346  ... -40.412582  -2.325322  -6.705203 -25.866652  -7.142957   \n2     26.846817  ... -34.547405  -1.589133 -11.633971 -23.948620  -0.723396   \n3     32.479534  ... -41.559254  -0.668475 -12.243627 -26.992029   1.255177   \n4     36.415375  ... -41.768703  -1.458748 -10.668156 -28.250914  -1.996622   \n...         ...  ...        ...        ...        ...        ...        ...   \n2095  45.546871  ... -22.069153   6.544076  -6.732862  -9.785005   8.602619   \n2096  40.687283  ... -26.738008  11.454770  -4.096629  -9.448665  11.811175   \n2097  38.700779  ... -19.067482   6.169343  -5.581761  -8.203163   8.463043   \n2098  47.596840  ... -29.184578   4.685061  -2.531713 -15.393044   2.941924   \n2099  48.046303  ... -21.930685  11.341022   1.198806 -10.743808   7.046232   \n\n         mfcc17     mfcc18     mfcc19     mfcc20  speaker  \n0     -5.603108 -13.659478  -2.320225 -12.169437        0  \n1    -10.470287 -16.260075  -5.955035 -14.368776        0  \n2     -4.458994 -10.715401  -1.525208 -11.829736        0  \n3     -5.872052 -13.653752  -2.406699 -15.252202        0  \n4     -7.960970 -16.239616  -3.517599 -17.073278        0  \n...         ...        ...        ...        ...      ...  \n2095  -6.234537  -1.425319   9.043639 -10.710855        5  \n2096  -7.345267  -0.686778  16.271574 -10.519032        5  \n2097  -4.057237   1.289013  11.204910  -8.808956        5  \n2098  -3.998078  -4.358109   4.382173 -10.873220        5  \n2099  -1.165114  -0.266177   7.784483  -9.114990        5  \n\n[2100 rows x 26 columns]",
      "text/html": "<div>\n<style scoped>\n    .dataframe tbody tr th:only-of-type {\n        vertical-align: middle;\n    }\n\n    .dataframe tbody tr th {\n        vertical-align: top;\n    }\n\n    .dataframe thead th {\n        text-align: right;\n    }\n</style>\n<table border=\"1\" class=\"dataframe\">\n  <thead>\n    <tr style=\"text-align: right;\">\n      <th></th>\n      <th>rmse</th>\n      <th>spectrat_centroid</th>\n      <th>spectral_bandwith</th>\n      <th>rolloff</th>\n      <th>zero_crossing_rate</th>\n      <th>mfcc1</th>\n      <th>mfcc2</th>\n      <th>mfcc3</th>\n      <th>mfcc4</th>\n      <th>mfcc5</th>\n      <th>...</th>\n      <th>mfcc12</th>\n      <th>mfcc13</th>\n      <th>mfcc14</th>\n      <th>mfcc15</th>\n      <th>mfcc16</th>\n      <th>mfcc17</th>\n      <th>mfcc18</th>\n      <th>mfcc19</th>\n      <th>mfcc20</th>\n      <th>speaker</th>\n    </tr>\n  </thead>\n  <tbody>\n    <tr>\n      <th>0</th>\n      <td>0.083719</td>\n      <td>1389.432001</td>\n      <td>1122.693199</td>\n      <td>2620.425180</td>\n      <td>0.060171</td>\n      <td>-312.483826</td>\n      <td>157.413849</td>\n      <td>-83.389442</td>\n      <td>47.328335</td>\n      <td>47.099693</td>\n      <td>...</td>\n      <td>-43.016983</td>\n      <td>2.110411</td>\n      <td>-6.013774</td>\n      <td>-28.540850</td>\n      <td>-3.117069</td>\n      <td>-5.603108</td>\n      <td>-13.659478</td>\n      <td>-2.320225</td>\n      <td>-12.169437</td>\n      <td>0</td>\n    </tr>\n    <tr>\n      <th>1</th>\n      <td>0.042972</td>\n      <td>1034.395917</td>\n      <td>974.723142</td>\n      <td>2113.980807</td>\n      <td>0.046744</td>\n      <td>-379.066345</td>\n      <td>165.666901</td>\n      <td>-57.867474</td>\n      <td>22.860203</td>\n      <td>25.974346</td>\n      <td>...</td>\n      <td>-40.412582</td>\n      <td>-2.325322</td>\n      <td>-6.705203</td>\n      <td>-25.866652</td>\n      <td>-7.142957</td>\n      <td>-10.470287</td>\n      <td>-16.260075</td>\n      <td>-5.955035</td>\n      <td>-14.368776</td>\n      <td>0</td>\n    </tr>\n    <tr>\n      <th>2</th>\n      <td>0.032147</td>\n      <td>1269.075083</td>\n      <td>1003.382474</td>\n      <td>2388.227983</td>\n      <td>0.076956</td>\n      <td>-424.772461</td>\n      <td>127.852097</td>\n      <td>-53.795578</td>\n      <td>17.831009</td>\n      <td>26.846817</td>\n      <td>...</td>\n      <td>-34.547405</td>\n      <td>-1.589133</td>\n      <td>-11.633971</td>\n      <td>-23.948620</td>\n      <td>-0.723396</td>\n      <td>-4.458994</td>\n      <td>-10.715401</td>\n      <td>-1.525208</td>\n      <td>-11.829736</td>\n      <td>0</td>\n    </tr>\n    <tr>\n      <th>3</th>\n      <td>0.041286</td>\n      <td>1218.094283</td>\n      <td>1049.359689</td>\n      <td>2413.872070</td>\n      <td>0.062061</td>\n      <td>-389.584808</td>\n      <td>166.073517</td>\n      <td>-79.408005</td>\n      <td>25.375334</td>\n      <td>32.479534</td>\n      <td>...</td>\n      <td>-41.559254</td>\n      <td>-0.668475</td>\n      <td>-12.243627</td>\n      <td>-26.992029</td>\n      <td>1.255177</td>\n      <td>-5.872052</td>\n      <td>-13.653752</td>\n      <td>-2.406699</td>\n      <td>-15.252202</td>\n      <td>0</td>\n    </tr>\n    <tr>\n      <th>4</th>\n      <td>0.041336</td>\n      <td>1146.683549</td>\n      <td>994.639615</td>\n      <td>2244.836426</td>\n      <td>0.061479</td>\n      <td>-389.274689</td>\n      <td>169.632339</td>\n      <td>-77.210121</td>\n      <td>22.742558</td>\n      <td>36.415375</td>\n      <td>...</td>\n      <td>-41.768703</td>\n      <td>-1.458748</td>\n      <td>-10.668156</td>\n      <td>-28.250914</td>\n      <td>-1.996622</td>\n      <td>-7.960970</td>\n      <td>-16.239616</td>\n      <td>-3.517599</td>\n      <td>-17.073278</td>\n      <td>0</td>\n    </tr>\n    <tr>\n      <th>...</th>\n      <td>...</td>\n      <td>...</td>\n      <td>...</td>\n      <td>...</td>\n      <td>...</td>\n      <td>...</td>\n      <td>...</td>\n      <td>...</td>\n      <td>...</td>\n      <td>...</td>\n      <td>...</td>\n      <td>...</td>\n      <td>...</td>\n      <td>...</td>\n      <td>...</td>\n      <td>...</td>\n      <td>...</td>\n      <td>...</td>\n      <td>...</td>\n      <td>...</td>\n      <td>...</td>\n    </tr>\n    <tr>\n      <th>2095</th>\n      <td>0.010023</td>\n      <td>1279.035949</td>\n      <td>1103.787370</td>\n      <td>2647.605202</td>\n      <td>0.069380</td>\n      <td>-510.476746</td>\n      <td>187.052338</td>\n      <td>-65.453217</td>\n      <td>43.655827</td>\n      <td>45.546871</td>\n      <td>...</td>\n      <td>-22.069153</td>\n      <td>6.544076</td>\n      <td>-6.732862</td>\n      <td>-9.785005</td>\n      <td>8.602619</td>\n      <td>-6.234537</td>\n      <td>-1.425319</td>\n      <td>9.043639</td>\n      <td>-10.710855</td>\n      <td>5</td>\n    </tr>\n    <tr>\n      <th>2096</th>\n      <td>0.008984</td>\n      <td>1361.016887</td>\n      <td>1103.588867</td>\n      <td>2704.211426</td>\n      <td>0.082235</td>\n      <td>-507.568237</td>\n      <td>189.247238</td>\n      <td>-70.409309</td>\n      <td>36.535740</td>\n      <td>40.687283</td>\n      <td>...</td>\n      <td>-26.738008</td>\n      <td>11.454770</td>\n      <td>-4.096629</td>\n      <td>-9.448665</td>\n      <td>11.811175</td>\n      <td>-7.345267</td>\n      <td>-0.686778</td>\n      <td>16.271574</td>\n      <td>-10.519032</td>\n      <td>5</td>\n    </tr>\n    <tr>\n      <th>2097</th>\n      <td>0.009840</td>\n      <td>1264.264588</td>\n      <td>1140.380567</td>\n      <td>2680.883789</td>\n      <td>0.061646</td>\n      <td>-525.325623</td>\n      <td>171.141586</td>\n      <td>-52.598236</td>\n      <td>39.120201</td>\n      <td>38.700779</td>\n      <td>...</td>\n      <td>-19.067482</td>\n      <td>6.169343</td>\n      <td>-5.581761</td>\n      <td>-8.203163</td>\n      <td>8.463043</td>\n      <td>-4.057237</td>\n      <td>1.289013</td>\n      <td>11.204910</td>\n      <td>-8.808956</td>\n      <td>5</td>\n    </tr>\n    <tr>\n      <th>2098</th>\n      <td>0.017723</td>\n      <td>1556.202017</td>\n      <td>1125.385014</td>\n      <td>2803.457407</td>\n      <td>0.082444</td>\n      <td>-464.850555</td>\n      <td>168.779602</td>\n      <td>-83.380943</td>\n      <td>39.441494</td>\n      <td>47.596840</td>\n      <td>...</td>\n      <td>-29.184578</td>\n      <td>4.685061</td>\n      <td>-2.531713</td>\n      <td>-15.393044</td>\n      <td>2.941924</td>\n      <td>-3.998078</td>\n      <td>-4.358109</td>\n      <td>4.382173</td>\n      <td>-10.873220</td>\n      <td>5</td>\n    </tr>\n    <tr>\n      <th>2099</th>\n      <td>0.007920</td>\n      <td>1724.917866</td>\n      <td>1119.666646</td>\n      <td>2935.693359</td>\n      <td>0.127848</td>\n      <td>-538.622986</td>\n      <td>154.209381</td>\n      <td>-78.856964</td>\n      <td>39.063801</td>\n      <td>48.046303</td>\n      <td>...</td>\n      <td>-21.930685</td>\n      <td>11.341022</td>\n      <td>1.198806</td>\n      <td>-10.743808</td>\n      <td>7.046232</td>\n      <td>-1.165114</td>\n      <td>-0.266177</td>\n      <td>7.784483</td>\n      <td>-9.114990</td>\n      <td>5</td>\n    </tr>\n  </tbody>\n</table>\n<p>2100 rows × 26 columns</p>\n</div>"
     },
     "execution_count": 8,
     "metadata": {},
     "output_type": "execute_result"
    }
   ],
   "source": [
    "def preprocessing(file_name):\n",
    "    print(f'{file_name} обрабатывается')\n",
    "    data = pd.read_csv(file_name)\n",
    "    speakers_prepared = []\n",
    "       # 0: Jackson\n",
    "    # 1: Nicolas\n",
    "    # 2: Theo\n",
    "    # 3: Ankur\n",
    "    # 4: Caroline\n",
    "    # 5: Rodolfo\n",
    "    speakers = {\"George\" : 0,\n",
    "                \"Jackson\" : 1,\n",
    "                \"Lucas\" : 2,\n",
    "                \"Nicolas\" : 3,\n",
    "                \"Theo\" : 4,\n",
    "                \"Yweweler\" : 5}\n",
    "\n",
    "    for i in range(len(data['filename'])):\n",
    "        speakers_prepared.append(speakers[(data['filename'][i]).rpartition('_')[0].partition('_')[2].title()])\n",
    "    data['speaker'] = speakers_prepared\n",
    "    data = data.drop(['filename'],axis=1)\n",
    "    data = data.drop(['label'],axis=1)\n",
    "    data = data.drop(['chroma_stft'],axis=1)\n",
    "    print('Готово')\n",
    "    return data\n",
    "\n",
    "train_data = preprocessing(TRAIN_CSV)\n",
    "test_data = preprocessing(TEST_CSV)\n",
    "\n",
    "train_data"
   ],
   "metadata": {
    "collapsed": false,
    "pycharm": {
     "name": "#%%\n"
    }
   }
  },
  {
   "cell_type": "code",
   "execution_count": 9,
   "outputs": [
    {
     "data": {
      "text/plain": "          rmse  spectrat_centroid  spectral_bandwith      rolloff  \\\n0     0.083719        1389.432001        1122.693199  2620.425180   \n1     0.042972        1034.395917         974.723142  2113.980807   \n2     0.032147        1269.075083        1003.382474  2388.227983   \n3     0.041286        1218.094283        1049.359689  2413.872070   \n4     0.041336        1146.683549         994.639615  2244.836426   \n...        ...                ...                ...          ...   \n2095  0.010023        1279.035949        1103.787370  2647.605202   \n2096  0.008984        1361.016887        1103.588867  2704.211426   \n2097  0.009840        1264.264588        1140.380567  2680.883789   \n2098  0.017723        1556.202017        1125.385014  2803.457407   \n2099  0.007920        1724.917866        1119.666646  2935.693359   \n\n      zero_crossing_rate       mfcc1       mfcc2      mfcc3      mfcc4  \\\n0               0.060171 -312.483826  157.413849 -83.389442  47.328335   \n1               0.046744 -379.066345  165.666901 -57.867474  22.860203   \n2               0.076956 -424.772461  127.852097 -53.795578  17.831009   \n3               0.062061 -389.584808  166.073517 -79.408005  25.375334   \n4               0.061479 -389.274689  169.632339 -77.210121  22.742558   \n...                  ...         ...         ...        ...        ...   \n2095            0.069380 -510.476746  187.052338 -65.453217  43.655827   \n2096            0.082235 -507.568237  189.247238 -70.409309  36.535740   \n2097            0.061646 -525.325623  171.141586 -52.598236  39.120201   \n2098            0.082444 -464.850555  168.779602 -83.380943  39.441494   \n2099            0.127848 -538.622986  154.209381 -78.856964  39.063801   \n\n          mfcc5  ...     mfcc12     mfcc13     mfcc14     mfcc15     mfcc16  \\\n0     47.099693  ... -43.016983   2.110411  -6.013774 -28.540850  -3.117069   \n1     25.974346  ... -40.412582  -2.325322  -6.705203 -25.866652  -7.142957   \n2     26.846817  ... -34.547405  -1.589133 -11.633971 -23.948620  -0.723396   \n3     32.479534  ... -41.559254  -0.668475 -12.243627 -26.992029   1.255177   \n4     36.415375  ... -41.768703  -1.458748 -10.668156 -28.250914  -1.996622   \n...         ...  ...        ...        ...        ...        ...        ...   \n2095  45.546871  ... -22.069153   6.544076  -6.732862  -9.785005   8.602619   \n2096  40.687283  ... -26.738008  11.454770  -4.096629  -9.448665  11.811175   \n2097  38.700779  ... -19.067482   6.169343  -5.581761  -8.203163   8.463043   \n2098  47.596840  ... -29.184578   4.685061  -2.531713 -15.393044   2.941924   \n2099  48.046303  ... -21.930685  11.341022   1.198806 -10.743808   7.046232   \n\n         mfcc17     mfcc18     mfcc19     mfcc20  speaker  \n0     -5.603108 -13.659478  -2.320225 -12.169437        0  \n1    -10.470287 -16.260075  -5.955035 -14.368776        0  \n2     -4.458994 -10.715401  -1.525208 -11.829736        0  \n3     -5.872052 -13.653752  -2.406699 -15.252202        0  \n4     -7.960970 -16.239616  -3.517599 -17.073278        0  \n...         ...        ...        ...        ...      ...  \n2095  -6.234537  -1.425319   9.043639 -10.710855        5  \n2096  -7.345267  -0.686778  16.271574 -10.519032        5  \n2097  -4.057237   1.289013  11.204910  -8.808956        5  \n2098  -3.998078  -4.358109   4.382173 -10.873220        5  \n2099  -1.165114  -0.266177   7.784483  -9.114990        5  \n\n[2100 rows x 26 columns]",
      "text/html": "<div>\n<style scoped>\n    .dataframe tbody tr th:only-of-type {\n        vertical-align: middle;\n    }\n\n    .dataframe tbody tr th {\n        vertical-align: top;\n    }\n\n    .dataframe thead th {\n        text-align: right;\n    }\n</style>\n<table border=\"1\" class=\"dataframe\">\n  <thead>\n    <tr style=\"text-align: right;\">\n      <th></th>\n      <th>rmse</th>\n      <th>spectrat_centroid</th>\n      <th>spectral_bandwith</th>\n      <th>rolloff</th>\n      <th>zero_crossing_rate</th>\n      <th>mfcc1</th>\n      <th>mfcc2</th>\n      <th>mfcc3</th>\n      <th>mfcc4</th>\n      <th>mfcc5</th>\n      <th>...</th>\n      <th>mfcc12</th>\n      <th>mfcc13</th>\n      <th>mfcc14</th>\n      <th>mfcc15</th>\n      <th>mfcc16</th>\n      <th>mfcc17</th>\n      <th>mfcc18</th>\n      <th>mfcc19</th>\n      <th>mfcc20</th>\n      <th>speaker</th>\n    </tr>\n  </thead>\n  <tbody>\n    <tr>\n      <th>0</th>\n      <td>0.083719</td>\n      <td>1389.432001</td>\n      <td>1122.693199</td>\n      <td>2620.425180</td>\n      <td>0.060171</td>\n      <td>-312.483826</td>\n      <td>157.413849</td>\n      <td>-83.389442</td>\n      <td>47.328335</td>\n      <td>47.099693</td>\n      <td>...</td>\n      <td>-43.016983</td>\n      <td>2.110411</td>\n      <td>-6.013774</td>\n      <td>-28.540850</td>\n      <td>-3.117069</td>\n      <td>-5.603108</td>\n      <td>-13.659478</td>\n      <td>-2.320225</td>\n      <td>-12.169437</td>\n      <td>0</td>\n    </tr>\n    <tr>\n      <th>1</th>\n      <td>0.042972</td>\n      <td>1034.395917</td>\n      <td>974.723142</td>\n      <td>2113.980807</td>\n      <td>0.046744</td>\n      <td>-379.066345</td>\n      <td>165.666901</td>\n      <td>-57.867474</td>\n      <td>22.860203</td>\n      <td>25.974346</td>\n      <td>...</td>\n      <td>-40.412582</td>\n      <td>-2.325322</td>\n      <td>-6.705203</td>\n      <td>-25.866652</td>\n      <td>-7.142957</td>\n      <td>-10.470287</td>\n      <td>-16.260075</td>\n      <td>-5.955035</td>\n      <td>-14.368776</td>\n      <td>0</td>\n    </tr>\n    <tr>\n      <th>2</th>\n      <td>0.032147</td>\n      <td>1269.075083</td>\n      <td>1003.382474</td>\n      <td>2388.227983</td>\n      <td>0.076956</td>\n      <td>-424.772461</td>\n      <td>127.852097</td>\n      <td>-53.795578</td>\n      <td>17.831009</td>\n      <td>26.846817</td>\n      <td>...</td>\n      <td>-34.547405</td>\n      <td>-1.589133</td>\n      <td>-11.633971</td>\n      <td>-23.948620</td>\n      <td>-0.723396</td>\n      <td>-4.458994</td>\n      <td>-10.715401</td>\n      <td>-1.525208</td>\n      <td>-11.829736</td>\n      <td>0</td>\n    </tr>\n    <tr>\n      <th>3</th>\n      <td>0.041286</td>\n      <td>1218.094283</td>\n      <td>1049.359689</td>\n      <td>2413.872070</td>\n      <td>0.062061</td>\n      <td>-389.584808</td>\n      <td>166.073517</td>\n      <td>-79.408005</td>\n      <td>25.375334</td>\n      <td>32.479534</td>\n      <td>...</td>\n      <td>-41.559254</td>\n      <td>-0.668475</td>\n      <td>-12.243627</td>\n      <td>-26.992029</td>\n      <td>1.255177</td>\n      <td>-5.872052</td>\n      <td>-13.653752</td>\n      <td>-2.406699</td>\n      <td>-15.252202</td>\n      <td>0</td>\n    </tr>\n    <tr>\n      <th>4</th>\n      <td>0.041336</td>\n      <td>1146.683549</td>\n      <td>994.639615</td>\n      <td>2244.836426</td>\n      <td>0.061479</td>\n      <td>-389.274689</td>\n      <td>169.632339</td>\n      <td>-77.210121</td>\n      <td>22.742558</td>\n      <td>36.415375</td>\n      <td>...</td>\n      <td>-41.768703</td>\n      <td>-1.458748</td>\n      <td>-10.668156</td>\n      <td>-28.250914</td>\n      <td>-1.996622</td>\n      <td>-7.960970</td>\n      <td>-16.239616</td>\n      <td>-3.517599</td>\n      <td>-17.073278</td>\n      <td>0</td>\n    </tr>\n    <tr>\n      <th>...</th>\n      <td>...</td>\n      <td>...</td>\n      <td>...</td>\n      <td>...</td>\n      <td>...</td>\n      <td>...</td>\n      <td>...</td>\n      <td>...</td>\n      <td>...</td>\n      <td>...</td>\n      <td>...</td>\n      <td>...</td>\n      <td>...</td>\n      <td>...</td>\n      <td>...</td>\n      <td>...</td>\n      <td>...</td>\n      <td>...</td>\n      <td>...</td>\n      <td>...</td>\n      <td>...</td>\n    </tr>\n    <tr>\n      <th>2095</th>\n      <td>0.010023</td>\n      <td>1279.035949</td>\n      <td>1103.787370</td>\n      <td>2647.605202</td>\n      <td>0.069380</td>\n      <td>-510.476746</td>\n      <td>187.052338</td>\n      <td>-65.453217</td>\n      <td>43.655827</td>\n      <td>45.546871</td>\n      <td>...</td>\n      <td>-22.069153</td>\n      <td>6.544076</td>\n      <td>-6.732862</td>\n      <td>-9.785005</td>\n      <td>8.602619</td>\n      <td>-6.234537</td>\n      <td>-1.425319</td>\n      <td>9.043639</td>\n      <td>-10.710855</td>\n      <td>5</td>\n    </tr>\n    <tr>\n      <th>2096</th>\n      <td>0.008984</td>\n      <td>1361.016887</td>\n      <td>1103.588867</td>\n      <td>2704.211426</td>\n      <td>0.082235</td>\n      <td>-507.568237</td>\n      <td>189.247238</td>\n      <td>-70.409309</td>\n      <td>36.535740</td>\n      <td>40.687283</td>\n      <td>...</td>\n      <td>-26.738008</td>\n      <td>11.454770</td>\n      <td>-4.096629</td>\n      <td>-9.448665</td>\n      <td>11.811175</td>\n      <td>-7.345267</td>\n      <td>-0.686778</td>\n      <td>16.271574</td>\n      <td>-10.519032</td>\n      <td>5</td>\n    </tr>\n    <tr>\n      <th>2097</th>\n      <td>0.009840</td>\n      <td>1264.264588</td>\n      <td>1140.380567</td>\n      <td>2680.883789</td>\n      <td>0.061646</td>\n      <td>-525.325623</td>\n      <td>171.141586</td>\n      <td>-52.598236</td>\n      <td>39.120201</td>\n      <td>38.700779</td>\n      <td>...</td>\n      <td>-19.067482</td>\n      <td>6.169343</td>\n      <td>-5.581761</td>\n      <td>-8.203163</td>\n      <td>8.463043</td>\n      <td>-4.057237</td>\n      <td>1.289013</td>\n      <td>11.204910</td>\n      <td>-8.808956</td>\n      <td>5</td>\n    </tr>\n    <tr>\n      <th>2098</th>\n      <td>0.017723</td>\n      <td>1556.202017</td>\n      <td>1125.385014</td>\n      <td>2803.457407</td>\n      <td>0.082444</td>\n      <td>-464.850555</td>\n      <td>168.779602</td>\n      <td>-83.380943</td>\n      <td>39.441494</td>\n      <td>47.596840</td>\n      <td>...</td>\n      <td>-29.184578</td>\n      <td>4.685061</td>\n      <td>-2.531713</td>\n      <td>-15.393044</td>\n      <td>2.941924</td>\n      <td>-3.998078</td>\n      <td>-4.358109</td>\n      <td>4.382173</td>\n      <td>-10.873220</td>\n      <td>5</td>\n    </tr>\n    <tr>\n      <th>2099</th>\n      <td>0.007920</td>\n      <td>1724.917866</td>\n      <td>1119.666646</td>\n      <td>2935.693359</td>\n      <td>0.127848</td>\n      <td>-538.622986</td>\n      <td>154.209381</td>\n      <td>-78.856964</td>\n      <td>39.063801</td>\n      <td>48.046303</td>\n      <td>...</td>\n      <td>-21.930685</td>\n      <td>11.341022</td>\n      <td>1.198806</td>\n      <td>-10.743808</td>\n      <td>7.046232</td>\n      <td>-1.165114</td>\n      <td>-0.266177</td>\n      <td>7.784483</td>\n      <td>-9.114990</td>\n      <td>5</td>\n    </tr>\n  </tbody>\n</table>\n<p>2100 rows × 26 columns</p>\n</div>"
     },
     "execution_count": 9,
     "metadata": {},
     "output_type": "execute_result"
    }
   ],
   "source": [
    "train_data"
   ],
   "metadata": {
    "collapsed": false,
    "pycharm": {
     "name": "#%%\n"
    }
   }
  },
  {
   "cell_type": "code",
   "execution_count": 14,
   "outputs": [],
   "source": [
    "#Разделение датасета на тренировочный и тестировочный\n",
    "from sklearn.model_selection import train_test_split\n",
    "\n",
    "\n",
    "x = np.array(train_data.iloc[:, :-1], dtype=float)\n",
    "y = train_data.iloc[:, -1]\n",
    "x_train, x_val, y_train, y_val = train_test_split(x, y, test_size=0.3, random_state=42)\n",
    "\n",
    "x_test = np.array(test_data.iloc[:,:-1], dtype=float)\n",
    "y_test = test_data.iloc[:, -1]"
   ],
   "metadata": {
    "collapsed": false,
    "pycharm": {
     "name": "#%%\n"
    }
   }
  },
  {
   "cell_type": "code",
   "execution_count": 17,
   "outputs": [],
   "source": [
    "scaler = StandardScaler()\n",
    "x_train = scaler.fit_transform(x_train)\n",
    "x_val = scaler.transform(x_val)\n",
    "x_test = scaler.transform(x_test)"
   ],
   "metadata": {
    "collapsed": false,
    "pycharm": {
     "name": "#%%\n"
    }
   }
  },
  {
   "cell_type": "code",
   "execution_count": 19,
   "outputs": [
    {
     "ename": "ModuleNotFoundError",
     "evalue": "No module named 'tensorflow'",
     "output_type": "error",
     "traceback": [
      "\u001B[1;31m---------------------------------------------------------------------------\u001B[0m",
      "\u001B[1;31mModuleNotFoundError\u001B[0m                       Traceback (most recent call last)",
      "\u001B[1;32m~\\AppData\\Local\\Temp\\ipykernel_11228\\2091127585.py\u001B[0m in \u001B[0;36m<module>\u001B[1;34m\u001B[0m\n\u001B[1;32m----> 1\u001B[1;33m \u001B[1;32mimport\u001B[0m \u001B[0mtensorflow\u001B[0m \u001B[1;32mas\u001B[0m \u001B[0mtf\u001B[0m\u001B[1;33m\u001B[0m\u001B[1;33m\u001B[0m\u001B[0m\n\u001B[0m",
      "\u001B[1;31mModuleNotFoundError\u001B[0m: No module named 'tensorflow'"
     ]
    }
   ],
   "source": [
    "import tensorflow as tf"
   ],
   "metadata": {
    "collapsed": false,
    "pycharm": {
     "name": "#%%\n"
    }
   }
  },
  {
   "cell_type": "code",
   "execution_count": 20,
   "outputs": [
    {
     "data": {
      "text/plain": "'3.7.4 (tags/v3.7.4:e09359112e, Jul  8 2019, 19:29:22) [MSC v.1916 32 bit (Intel)]'"
     },
     "execution_count": 20,
     "metadata": {},
     "output_type": "execute_result"
    }
   ],
   "source": [
    "import sys\n",
    "sys.version"
   ],
   "metadata": {
    "collapsed": false,
    "pycharm": {
     "name": "#%%\n"
    }
   }
  },
  {
   "cell_type": "code",
   "execution_count": null,
   "outputs": [],
   "source": [],
   "metadata": {
    "collapsed": false,
    "pycharm": {
     "name": "#%%\n"
    }
   }
  }
 ],
 "metadata": {
  "kernelspec": {
   "display_name": "Python 3",
   "language": "python",
   "name": "python3"
  },
  "language_info": {
   "codemirror_mode": {
    "name": "ipython",
    "version": 2
   },
   "file_extension": ".py",
   "mimetype": "text/x-python",
   "name": "python",
   "nbconvert_exporter": "python",
   "pygments_lexer": "ipython2",
   "version": "2.7.6"
  }
 },
 "nbformat": 4,
 "nbformat_minor": 0
}