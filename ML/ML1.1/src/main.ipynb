{
 "cells": [
  {
   "cell_type": "code",
   "execution_count": 2,
   "metadata": {
    "collapsed": true
   },
   "outputs": [],
   "source": [
    "import pandas as pd\n",
    "import numpy as np\n",
    "import matplotlib.pyplot as plt"
   ]
  },
  {
   "cell_type": "code",
   "execution_count": 3,
   "outputs": [],
   "source": [
    "gazp = pd.read_csv(\"data/GAZP.txt\")\n",
    "sber = pd.read_csv(\"data/SBER.txt\")"
   ],
   "metadata": {
    "collapsed": false,
    "pycharm": {
     "name": "#%%\n"
    }
   }
  },
  {
   "cell_type": "code",
   "execution_count": 4,
   "outputs": [
    {
     "data": {
      "text/plain": "  <TICKER> <PER>    <DATE>  <TIME>  <CLOSE>      <VOL>\n0     SBER     D  20101001       0    89.09  332429890\n1     SBER     D  20101004       0    89.88  194032721\n2     SBER     D  20101005       0    91.97  198775753\n3     SBER     D  20101006       0    91.20  210406027\n4     SBER     D  20101007       0    90.40  145137617",
      "text/html": "<div>\n<style scoped>\n    .dataframe tbody tr th:only-of-type {\n        vertical-align: middle;\n    }\n\n    .dataframe tbody tr th {\n        vertical-align: top;\n    }\n\n    .dataframe thead th {\n        text-align: right;\n    }\n</style>\n<table border=\"1\" class=\"dataframe\">\n  <thead>\n    <tr style=\"text-align: right;\">\n      <th></th>\n      <th>&lt;TICKER&gt;</th>\n      <th>&lt;PER&gt;</th>\n      <th>&lt;DATE&gt;</th>\n      <th>&lt;TIME&gt;</th>\n      <th>&lt;CLOSE&gt;</th>\n      <th>&lt;VOL&gt;</th>\n    </tr>\n  </thead>\n  <tbody>\n    <tr>\n      <th>0</th>\n      <td>SBER</td>\n      <td>D</td>\n      <td>20101001</td>\n      <td>0</td>\n      <td>89.09</td>\n      <td>332429890</td>\n    </tr>\n    <tr>\n      <th>1</th>\n      <td>SBER</td>\n      <td>D</td>\n      <td>20101004</td>\n      <td>0</td>\n      <td>89.88</td>\n      <td>194032721</td>\n    </tr>\n    <tr>\n      <th>2</th>\n      <td>SBER</td>\n      <td>D</td>\n      <td>20101005</td>\n      <td>0</td>\n      <td>91.97</td>\n      <td>198775753</td>\n    </tr>\n    <tr>\n      <th>3</th>\n      <td>SBER</td>\n      <td>D</td>\n      <td>20101006</td>\n      <td>0</td>\n      <td>91.20</td>\n      <td>210406027</td>\n    </tr>\n    <tr>\n      <th>4</th>\n      <td>SBER</td>\n      <td>D</td>\n      <td>20101007</td>\n      <td>0</td>\n      <td>90.40</td>\n      <td>145137617</td>\n    </tr>\n  </tbody>\n</table>\n</div>"
     },
     "execution_count": 4,
     "metadata": {},
     "output_type": "execute_result"
    }
   ],
   "source": [
    "sber.head()"
   ],
   "metadata": {
    "collapsed": false,
    "pycharm": {
     "name": "#%%\n"
    }
   }
  },
  {
   "cell_type": "code",
   "execution_count": 5,
   "outputs": [
    {
     "data": {
      "text/plain": "  <TICKER>_x <PER>_x    <DATE>  <TIME>_x  <CLOSE>_x   <VOL>_x <TICKER>_y  \\\n0       GAZP       D  20101001         0     160.54  60923751       SBER   \n1       GAZP       D  20101004         0     161.99  61902787       SBER   \n2       GAZP       D  20101005         0     162.44  61546943       SBER   \n3       GAZP       D  20101006         0     163.00  67921495       SBER   \n4       GAZP       D  20101007         0     162.49  43529081       SBER   \n\n  <PER>_y  <TIME>_y  <CLOSE>_y    <VOL>_y  \n0       D         0      89.09  332429890  \n1       D         0      89.88  194032721  \n2       D         0      91.97  198775753  \n3       D         0      91.20  210406027  \n4       D         0      90.40  145137617  ",
      "text/html": "<div>\n<style scoped>\n    .dataframe tbody tr th:only-of-type {\n        vertical-align: middle;\n    }\n\n    .dataframe tbody tr th {\n        vertical-align: top;\n    }\n\n    .dataframe thead th {\n        text-align: right;\n    }\n</style>\n<table border=\"1\" class=\"dataframe\">\n  <thead>\n    <tr style=\"text-align: right;\">\n      <th></th>\n      <th>&lt;TICKER&gt;_x</th>\n      <th>&lt;PER&gt;_x</th>\n      <th>&lt;DATE&gt;</th>\n      <th>&lt;TIME&gt;_x</th>\n      <th>&lt;CLOSE&gt;_x</th>\n      <th>&lt;VOL&gt;_x</th>\n      <th>&lt;TICKER&gt;_y</th>\n      <th>&lt;PER&gt;_y</th>\n      <th>&lt;TIME&gt;_y</th>\n      <th>&lt;CLOSE&gt;_y</th>\n      <th>&lt;VOL&gt;_y</th>\n    </tr>\n  </thead>\n  <tbody>\n    <tr>\n      <th>0</th>\n      <td>GAZP</td>\n      <td>D</td>\n      <td>20101001</td>\n      <td>0</td>\n      <td>160.54</td>\n      <td>60923751</td>\n      <td>SBER</td>\n      <td>D</td>\n      <td>0</td>\n      <td>89.09</td>\n      <td>332429890</td>\n    </tr>\n    <tr>\n      <th>1</th>\n      <td>GAZP</td>\n      <td>D</td>\n      <td>20101004</td>\n      <td>0</td>\n      <td>161.99</td>\n      <td>61902787</td>\n      <td>SBER</td>\n      <td>D</td>\n      <td>0</td>\n      <td>89.88</td>\n      <td>194032721</td>\n    </tr>\n    <tr>\n      <th>2</th>\n      <td>GAZP</td>\n      <td>D</td>\n      <td>20101005</td>\n      <td>0</td>\n      <td>162.44</td>\n      <td>61546943</td>\n      <td>SBER</td>\n      <td>D</td>\n      <td>0</td>\n      <td>91.97</td>\n      <td>198775753</td>\n    </tr>\n    <tr>\n      <th>3</th>\n      <td>GAZP</td>\n      <td>D</td>\n      <td>20101006</td>\n      <td>0</td>\n      <td>163.00</td>\n      <td>67921495</td>\n      <td>SBER</td>\n      <td>D</td>\n      <td>0</td>\n      <td>91.20</td>\n      <td>210406027</td>\n    </tr>\n    <tr>\n      <th>4</th>\n      <td>GAZP</td>\n      <td>D</td>\n      <td>20101007</td>\n      <td>0</td>\n      <td>162.49</td>\n      <td>43529081</td>\n      <td>SBER</td>\n      <td>D</td>\n      <td>0</td>\n      <td>90.40</td>\n      <td>145137617</td>\n    </tr>\n  </tbody>\n</table>\n</div>"
     },
     "execution_count": 5,
     "metadata": {},
     "output_type": "execute_result"
    }
   ],
   "source": [
    "res = pd.merge(gazp, sber, on='<DATE>')\n",
    "res.head()"
   ],
   "metadata": {
    "collapsed": false,
    "pycharm": {
     "name": "#%%\n"
    }
   }
  },
  {
   "cell_type": "code",
   "execution_count": 6,
   "outputs": [],
   "source": [
    "x = res['<CLOSE>_x']\n",
    "y = res['<CLOSE>_y']"
   ],
   "metadata": {
    "collapsed": false,
    "pycharm": {
     "name": "#%%\n"
    }
   }
  },
  {
   "cell_type": "code",
   "execution_count": 7,
   "outputs": [
    {
     "data": {
      "text/plain": "<Figure size 432x288 with 1 Axes>",
      "image/png": "[encoded data removed]"
     },
     "metadata": {
      "needs_background": "light"
     },
     "output_type": "display_data"
    }
   ],
   "source": [
    "plt.figure()\n",
    "plt.scatter(x, y)\n",
    "plt.show()"
   ],
   "metadata": {
    "collapsed": false,
    "pycharm": {
     "name": "#%%\n"
    }
   }
  },
  {
   "cell_type": "code",
   "execution_count": 8,
   "outputs": [],
   "source": [
    "class hypothesis(object):\n",
    "    \"\"\"Модель парной линейной регрессии\"\"\"\n",
    "    def __init__(self):\n",
    "        self.b0 = 0\n",
    "        self.b1 = 0\n",
    "\n",
    "    def predict(self, x):\n",
    "        return self.b0 + self.b1 * x\n",
    "\n",
    "    def error(self, X, Y):\n",
    "        return sum((self.predict(X) - Y)**2) / (2 * len(X))\n",
    "\n",
    "    def BGD(self, X, Y):\n",
    "        alpha = 0.00005\n",
    "        dJ0 = sum(self.predict(X) - Y) /len(X)\n",
    "        dJ1 = sum((self.predict(X) - Y) * X) /len(X)\n",
    "        self.b0 -= alpha * dJ0\n",
    "        self.b1 -= alpha * dJ1"
   ],
   "metadata": {
    "collapsed": false,
    "pycharm": {
     "name": "#%%\n"
    }
   }
  },
  {
   "cell_type": "code",
   "execution_count": 9,
   "outputs": [
    {
     "name": "stdout",
     "output_type": "stream",
     "text": [
      "0\n",
      "0\n",
      "initial error: 5769.919997525599\n"
     ]
    }
   ],
   "source": [
    "hyp = hypothesis()\n",
    "print(hyp.predict(0))\n",
    "print(hyp.predict(100))\n",
    "J = hyp.error(x, y)\n",
    "print(\"initial error:\", J)"
   ],
   "metadata": {
    "collapsed": false,
    "pycharm": {
     "name": "#%%\n"
    }
   }
  },
  {
   "cell_type": "code",
   "execution_count": 10,
   "outputs": [
    {
     "data": {
      "text/plain": "<Figure size 432x288 with 1 Axes>",
      "image/png": "[encoded data removed]"
     },
     "metadata": {
      "needs_background": "light"
     },
     "output_type": "display_data"
    }
   ],
   "source": [
    "X0 = np.linspace(60, 180, 100)\n",
    "Y0 = hyp.predict(X0)\n",
    "plt.figure()\n",
    "plt.scatter(x, y)\n",
    "plt.plot(X0, Y0, 'r')\n",
    "plt.show()"
   ],
   "metadata": {
    "collapsed": false,
    "pycharm": {
     "name": "#%%\n"
    }
   }
  },
  {
   "cell_type": "code",
   "execution_count": null,
   "outputs": [],
   "source": [],
   "metadata": {
    "collapsed": false,
    "pycharm": {
     "name": "#%%\n"
    }
   }
  }
 ],
 "metadata": {
  "kernelspec": {
   "display_name": "Python 3",
   "language": "python",
   "name": "python3"
  },
  "language_info": {
   "codemirror_mode": {
    "name": "ipython",
    "version": 2
   },
   "file_extension": ".py",
   "mimetype": "text/x-python",
   "name": "python",
   "nbconvert_exporter": "python",
   "pygments_lexer": "ipython2",
   "version": "2.7.6"
  }
 },
 "nbformat": 4,
 "nbformat_minor": 0
}